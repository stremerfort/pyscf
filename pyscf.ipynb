{
  "nbformat": 4,
  "nbformat_minor": 0,
  "metadata": {
    "colab": {
      "provenance": [],
      "authorship_tag": "ABX9TyMo4R6vXnvy4aYyIaDBY7Xk",
      "include_colab_link": true
    },
    "kernelspec": {
      "name": "python3",
      "display_name": "Python 3"
    },
    "language_info": {
      "name": "python"
    },
    "widgets": {
      "application/vnd.jupyter.widget-state+json": {
        "8087ef8d00874e1dbb4f2298977c4a97": {
          "model_module": "@jupyter-widgets/controls",
          "model_name": "VBoxModel",
          "model_module_version": "1.5.0",
          "state": {
            "_dom_classes": [],
            "_model_module": "@jupyter-widgets/controls",
            "_model_module_version": "1.5.0",
            "_model_name": "VBoxModel",
            "_view_count": null,
            "_view_module": "@jupyter-widgets/controls",
            "_view_module_version": "1.5.0",
            "_view_name": "VBoxView",
            "box_style": "",
            "children": [
              "IPY_MODEL_b9731da14ea84041830ce2ea3e2f3196",
              "IPY_MODEL_67cfc704fa194dfd98b58a490fc1bb16",
              "IPY_MODEL_797c5ab71c6846f2b258b813594a4fe4"
            ],
            "layout": "IPY_MODEL_e9ab178ce8bc4130a37dba17a735968e"
          }
        },
        "b9731da14ea84041830ce2ea3e2f3196": {
          "model_module": "@jupyter-widgets/controls",
          "model_name": "HTMLModel",
          "model_module_version": "1.5.0",
          "state": {
            "_dom_classes": [],
            "_model_module": "@jupyter-widgets/controls",
            "_model_module_version": "1.5.0",
            "_model_name": "HTMLModel",
            "_view_count": null,
            "_view_module": "@jupyter-widgets/controls",
            "_view_module_version": "1.5.0",
            "_view_name": "HTMLView",
            "description": "",
            "description_tooltip": null,
            "layout": "IPY_MODEL_b0316cea1c834747859c42ee0269d6d9",
            "placeholder": "​",
            "style": "IPY_MODEL_7d84de4d13e7473997e96445f9d93d59",
            "value": "<div align=\"center\" style=\"font-size:16px;font-family:Helvetica;font-weight: bold;\">./cmo_homo.cube</div>"
          }
        },
        "67cfc704fa194dfd98b58a490fc1bb16": {
          "model_module": "jupyter-threejs",
          "model_name": "RendererModel",
          "model_module_version": "^2.4.1",
          "state": {
            "_alpha": false,
            "_antialias": false,
            "_dom_classes": [],
            "_height": 400,
            "_model_module": "jupyter-threejs",
            "_model_module_version": "^2.4.1",
            "_model_name": "RendererModel",
            "_pause_autorender": false,
            "_view_count": null,
            "_view_module": "jupyter-threejs",
            "_view_module_version": "^2.4.1",
            "_view_name": "RendererView",
            "_webgl_version": 2,
            "_width": 400,
            "autoClear": true,
            "autoClearColor": true,
            "autoClearDepth": true,
            "autoClearStencil": true,
            "background": "black",
            "background_opacity": 1,
            "camera": "IPY_MODEL_8d0cdf7f173d4ed386bc6811ea24f22a",
            "clearColor": "#000000",
            "clearOpacity": 1,
            "clippingPlanes": [],
            "controls": [
              "IPY_MODEL_8d44f761435a4a038f3436e6c3af7d09"
            ],
            "gammaFactor": 2,
            "gammaInput": false,
            "gammaOutput": false,
            "layout": "IPY_MODEL_8e3e10b4160d44a89d4592bd1aa6a583",
            "localClippingEnabled": false,
            "maxMorphNormals": 4,
            "maxMorphTargets": 8,
            "physicallyCorrectLights": false,
            "scene": "IPY_MODEL_174d98633adf42fabb28b61e37868a6c",
            "shadowMap": "IPY_MODEL_2b2e52710510480ca38493696b893073",
            "sortObject": true,
            "toneMapping": "LinearToneMapping",
            "toneMappingExposure": 1,
            "toneMappingWhitePoint": 1
          }
        },
        "797c5ab71c6846f2b258b813594a4fe4": {
          "model_module": "@jupyter-widgets/controls",
          "model_name": "HTMLModel",
          "model_module_version": "1.5.0",
          "state": {
            "_dom_classes": [],
            "_model_module": "@jupyter-widgets/controls",
            "_model_module_version": "1.5.0",
            "_model_name": "HTMLModel",
            "_view_count": null,
            "_view_module": "@jupyter-widgets/controls",
            "_view_module_version": "1.5.0",
            "_view_name": "HTMLView",
            "description": "",
            "description_tooltip": null,
            "layout": "IPY_MODEL_9a0ae6fb81e54a099adb2ceeb29a9567",
            "placeholder": "​",
            "style": "IPY_MODEL_edff8a42926c4c48a5609f5cb7714554",
            "value": "<div align=\"center\">(./cmo_homo.cube)</div>"
          }
        },
        "e9ab178ce8bc4130a37dba17a735968e": {
          "model_module": "@jupyter-widgets/base",
          "model_name": "LayoutModel",
          "model_module_version": "1.2.0",
          "state": {
            "_model_module": "@jupyter-widgets/base",
            "_model_module_version": "1.2.0",
            "_model_name": "LayoutModel",
            "_view_count": null,
            "_view_module": "@jupyter-widgets/base",
            "_view_module_version": "1.2.0",
            "_view_name": "LayoutView",
            "align_content": null,
            "align_items": null,
            "align_self": null,
            "border": "0px solid black",
            "bottom": null,
            "display": null,
            "flex": null,
            "flex_flow": null,
            "grid_area": null,
            "grid_auto_columns": null,
            "grid_auto_flow": null,
            "grid_auto_rows": null,
            "grid_column": null,
            "grid_gap": null,
            "grid_row": null,
            "grid_template_areas": null,
            "grid_template_columns": null,
            "grid_template_rows": null,
            "height": "500px",
            "justify_content": null,
            "justify_items": null,
            "left": null,
            "margin": null,
            "max_height": null,
            "max_width": null,
            "min_height": null,
            "min_width": null,
            "object_fit": null,
            "object_position": null,
            "order": null,
            "overflow": null,
            "overflow_x": null,
            "overflow_y": null,
            "padding": null,
            "right": null,
            "top": null,
            "visibility": null,
            "width": "450px"
          }
        },
        "b0316cea1c834747859c42ee0269d6d9": {
          "model_module": "@jupyter-widgets/base",
          "model_name": "LayoutModel",
          "model_module_version": "1.2.0",
          "state": {
            "_model_module": "@jupyter-widgets/base",
            "_model_module_version": "1.2.0",
            "_model_name": "LayoutModel",
            "_view_count": null,
            "_view_module": "@jupyter-widgets/base",
            "_view_module_version": "1.2.0",
            "_view_name": "LayoutView",
            "align_content": null,
            "align_items": null,
            "align_self": null,
            "border": null,
            "bottom": null,
            "display": null,
            "flex": null,
            "flex_flow": null,
            "grid_area": null,
            "grid_auto_columns": null,
            "grid_auto_flow": null,
            "grid_auto_rows": null,
            "grid_column": null,
            "grid_gap": null,
            "grid_row": null,
            "grid_template_areas": null,
            "grid_template_columns": null,
            "grid_template_rows": null,
            "height": null,
            "justify_content": null,
            "justify_items": null,
            "left": null,
            "margin": null,
            "max_height": null,
            "max_width": null,
            "min_height": null,
            "min_width": null,
            "object_fit": null,
            "object_position": null,
            "order": null,
            "overflow": null,
            "overflow_x": null,
            "overflow_y": null,
            "padding": null,
            "right": null,
            "top": null,
            "visibility": null,
            "width": null
          }
        },
        "7d84de4d13e7473997e96445f9d93d59": {
          "model_module": "@jupyter-widgets/controls",
          "model_name": "DescriptionStyleModel",
          "model_module_version": "1.5.0",
          "state": {
            "_model_module": "@jupyter-widgets/controls",
            "_model_module_version": "1.5.0",
            "_model_name": "DescriptionStyleModel",
            "_view_count": null,
            "_view_module": "@jupyter-widgets/base",
            "_view_module_version": "1.2.0",
            "_view_name": "StyleView",
            "description_width": ""
          }
        },
        "10434e197afc44c5ba4b23138133d8ec": {
          "model_module": "@jupyter-widgets/controls",
          "model_name": "HTMLModel",
          "model_module_version": "1.5.0",
          "state": {
            "_dom_classes": [],
            "_model_module": "@jupyter-widgets/controls",
            "_model_module_version": "1.5.0",
            "_model_name": "HTMLModel",
            "_view_count": null,
            "_view_module": "@jupyter-widgets/controls",
            "_view_module_version": "1.5.0",
            "_view_name": "HTMLView",
            "description": "",
            "description_tooltip": null,
            "layout": "IPY_MODEL_47aa289395ba441bbf663855f7d47011",
            "placeholder": "​",
            "style": "IPY_MODEL_ebc760a871364652a55f717c616d03d3",
            "value": "\n        <style>\n           .jupyter-widgets-output-area .output_scroll {\n                height: unset !important;\n                border-radius: unset !important;\n                -webkit-box-shadow: unset !important;\n              box-shadow: unset !important;\n            }\n            .jupyter-widgets-output-area  {\n            height: auto !important;\n         }\n        </style>\n        "
          }
        },
        "9a0ae6fb81e54a099adb2ceeb29a9567": {
          "model_module": "@jupyter-widgets/base",
          "model_name": "LayoutModel",
          "model_module_version": "1.2.0",
          "state": {
            "_model_module": "@jupyter-widgets/base",
            "_model_module_version": "1.2.0",
            "_model_name": "LayoutModel",
            "_view_count": null,
            "_view_module": "@jupyter-widgets/base",
            "_view_module_version": "1.2.0",
            "_view_name": "LayoutView",
            "align_content": null,
            "align_items": null,
            "align_self": null,
            "border": null,
            "bottom": null,
            "display": null,
            "flex": null,
            "flex_flow": null,
            "grid_area": null,
            "grid_auto_columns": null,
            "grid_auto_flow": null,
            "grid_auto_rows": null,
            "grid_column": null,
            "grid_gap": null,
            "grid_row": null,
            "grid_template_areas": null,
            "grid_template_columns": null,
            "grid_template_rows": null,
            "height": null,
            "justify_content": null,
            "justify_items": null,
            "left": null,
            "margin": null,
            "max_height": null,
            "max_width": null,
            "min_height": null,
            "min_width": null,
            "object_fit": null,
            "object_position": null,
            "order": null,
            "overflow": null,
            "overflow_x": null,
            "overflow_y": null,
            "padding": null,
            "right": null,
            "top": null,
            "visibility": null,
            "width": null
          }
        },
        "edff8a42926c4c48a5609f5cb7714554": {
          "model_module": "@jupyter-widgets/controls",
          "model_name": "DescriptionStyleModel",
          "model_module_version": "1.5.0",
          "state": {
            "_model_module": "@jupyter-widgets/controls",
            "_model_module_version": "1.5.0",
            "_model_name": "DescriptionStyleModel",
            "_view_count": null,
            "_view_module": "@jupyter-widgets/base",
            "_view_module_version": "1.2.0",
            "_view_name": "StyleView",
            "description_width": ""
          }
        },
        "47aa289395ba441bbf663855f7d47011": {
          "model_module": "@jupyter-widgets/base",
          "model_name": "LayoutModel",
          "model_module_version": "1.2.0",
          "state": {
            "_model_module": "@jupyter-widgets/base",
            "_model_module_version": "1.2.0",
            "_model_name": "LayoutModel",
            "_view_count": null,
            "_view_module": "@jupyter-widgets/base",
            "_view_module_version": "1.2.0",
            "_view_name": "LayoutView",
            "align_content": null,
            "align_items": null,
            "align_self": null,
            "border": null,
            "bottom": null,
            "display": null,
            "flex": null,
            "flex_flow": null,
            "grid_area": null,
            "grid_auto_columns": null,
            "grid_auto_flow": null,
            "grid_auto_rows": null,
            "grid_column": null,
            "grid_gap": null,
            "grid_row": null,
            "grid_template_areas": null,
            "grid_template_columns": null,
            "grid_template_rows": null,
            "height": null,
            "justify_content": null,
            "justify_items": null,
            "left": null,
            "margin": null,
            "max_height": null,
            "max_width": null,
            "min_height": null,
            "min_width": null,
            "object_fit": null,
            "object_position": null,
            "order": null,
            "overflow": null,
            "overflow_x": null,
            "overflow_y": null,
            "padding": null,
            "right": null,
            "top": null,
            "visibility": null,
            "width": null
          }
        },
        "ebc760a871364652a55f717c616d03d3": {
          "model_module": "@jupyter-widgets/controls",
          "model_name": "DescriptionStyleModel",
          "model_module_version": "1.5.0",
          "state": {
            "_model_module": "@jupyter-widgets/controls",
            "_model_module_version": "1.5.0",
            "_model_name": "DescriptionStyleModel",
            "_view_count": null,
            "_view_module": "@jupyter-widgets/base",
            "_view_module_version": "1.2.0",
            "_view_name": "StyleView",
            "description_width": ""
          }
        },
        "a6ead4598f4f4b1fa8f5b7af1c3df654": {
          "model_module": "@jupyter-widgets/controls",
          "model_name": "VBoxModel",
          "model_module_version": "1.5.0",
          "state": {
            "_dom_classes": [
              "widget-interact"
            ],
            "_model_module": "@jupyter-widgets/controls",
            "_model_module_version": "1.5.0",
            "_model_name": "VBoxModel",
            "_view_count": null,
            "_view_module": "@jupyter-widgets/controls",
            "_view_module_version": "1.5.0",
            "_view_name": "VBoxView",
            "box_style": "",
            "children": [
              "IPY_MODEL_1a44bcbae722429eb78ff8af4551b026",
              "IPY_MODEL_4d4cdc4a943a41e5a639437033d99889"
            ],
            "layout": "IPY_MODEL_fda65caa16b347d385224c4eaa4f8470"
          }
        },
        "1a44bcbae722429eb78ff8af4551b026": {
          "model_module": "@jupyter-widgets/controls",
          "model_name": "SelectModel",
          "model_module_version": "1.5.0",
          "state": {
            "_dom_classes": [],
            "_model_module": "@jupyter-widgets/controls",
            "_model_module_version": "1.5.0",
            "_model_name": "SelectModel",
            "_options_labels": [
              "./cmo_homo.cube",
              "./cmo_lumo.cube",
              "./ibo_homo.cube",
              "./livvo_lumo.cube"
            ],
            "_view_count": null,
            "_view_module": "@jupyter-widgets/controls",
            "_view_module_version": "1.5.0",
            "_view_name": "SelectView",
            "description": "Cube files:",
            "description_tooltip": null,
            "disabled": false,
            "index": 0,
            "layout": "IPY_MODEL_c1469372d3654b16a922a29e2ae8d612",
            "rows": 5,
            "style": "IPY_MODEL_12c2a6d0aa4b4906a150977680ad364d"
          }
        },
        "4d4cdc4a943a41e5a639437033d99889": {
          "model_module": "@jupyter-widgets/output",
          "model_name": "OutputModel",
          "model_module_version": "1.0.0",
          "state": {
            "_dom_classes": [],
            "_model_module": "@jupyter-widgets/output",
            "_model_module_version": "1.0.0",
            "_model_name": "OutputModel",
            "_view_count": null,
            "_view_module": "@jupyter-widgets/output",
            "_view_module_version": "1.0.0",
            "_view_name": "OutputView",
            "layout": "IPY_MODEL_7ddd08e0e92849a48e8a12f94bb737c9",
            "msg_id": "",
            "outputs": []
          }
        },
        "fda65caa16b347d385224c4eaa4f8470": {
          "model_module": "@jupyter-widgets/base",
          "model_name": "LayoutModel",
          "model_module_version": "1.2.0",
          "state": {
            "_model_module": "@jupyter-widgets/base",
            "_model_module_version": "1.2.0",
            "_model_name": "LayoutModel",
            "_view_count": null,
            "_view_module": "@jupyter-widgets/base",
            "_view_module_version": "1.2.0",
            "_view_name": "LayoutView",
            "align_content": null,
            "align_items": null,
            "align_self": null,
            "border": null,
            "bottom": null,
            "display": null,
            "flex": null,
            "flex_flow": null,
            "grid_area": null,
            "grid_auto_columns": null,
            "grid_auto_flow": null,
            "grid_auto_rows": null,
            "grid_column": null,
            "grid_gap": null,
            "grid_row": null,
            "grid_template_areas": null,
            "grid_template_columns": null,
            "grid_template_rows": null,
            "height": null,
            "justify_content": null,
            "justify_items": null,
            "left": null,
            "margin": null,
            "max_height": null,
            "max_width": null,
            "min_height": null,
            "min_width": null,
            "object_fit": null,
            "object_position": null,
            "order": null,
            "overflow": null,
            "overflow_x": null,
            "overflow_y": null,
            "padding": null,
            "right": null,
            "top": null,
            "visibility": null,
            "width": null
          }
        },
        "c1469372d3654b16a922a29e2ae8d612": {
          "model_module": "@jupyter-widgets/base",
          "model_name": "LayoutModel",
          "model_module_version": "1.2.0",
          "state": {
            "_model_module": "@jupyter-widgets/base",
            "_model_module_version": "1.2.0",
            "_model_name": "LayoutModel",
            "_view_count": null,
            "_view_module": "@jupyter-widgets/base",
            "_view_module_version": "1.2.0",
            "_view_name": "LayoutView",
            "align_content": null,
            "align_items": null,
            "align_self": null,
            "border": null,
            "bottom": null,
            "display": null,
            "flex": null,
            "flex_flow": null,
            "grid_area": null,
            "grid_auto_columns": null,
            "grid_auto_flow": null,
            "grid_auto_rows": null,
            "grid_column": null,
            "grid_gap": null,
            "grid_row": null,
            "grid_template_areas": null,
            "grid_template_columns": null,
            "grid_template_rows": null,
            "height": null,
            "justify_content": null,
            "justify_items": null,
            "left": null,
            "margin": null,
            "max_height": null,
            "max_width": null,
            "min_height": null,
            "min_width": null,
            "object_fit": null,
            "object_position": null,
            "order": null,
            "overflow": null,
            "overflow_x": null,
            "overflow_y": null,
            "padding": null,
            "right": null,
            "top": null,
            "visibility": null,
            "width": null
          }
        },
        "12c2a6d0aa4b4906a150977680ad364d": {
          "model_module": "@jupyter-widgets/controls",
          "model_name": "DescriptionStyleModel",
          "model_module_version": "1.5.0",
          "state": {
            "_model_module": "@jupyter-widgets/controls",
            "_model_module_version": "1.5.0",
            "_model_name": "DescriptionStyleModel",
            "_view_count": null,
            "_view_module": "@jupyter-widgets/base",
            "_view_module_version": "1.2.0",
            "_view_name": "StyleView",
            "description_width": ""
          }
        },
        "7ddd08e0e92849a48e8a12f94bb737c9": {
          "model_module": "@jupyter-widgets/base",
          "model_name": "LayoutModel",
          "model_module_version": "1.2.0",
          "state": {
            "_model_module": "@jupyter-widgets/base",
            "_model_module_version": "1.2.0",
            "_model_name": "LayoutModel",
            "_view_count": null,
            "_view_module": "@jupyter-widgets/base",
            "_view_module_version": "1.2.0",
            "_view_name": "LayoutView",
            "align_content": null,
            "align_items": null,
            "align_self": null,
            "border": null,
            "bottom": null,
            "display": null,
            "flex": null,
            "flex_flow": null,
            "grid_area": null,
            "grid_auto_columns": null,
            "grid_auto_flow": null,
            "grid_auto_rows": null,
            "grid_column": null,
            "grid_gap": null,
            "grid_row": null,
            "grid_template_areas": null,
            "grid_template_columns": null,
            "grid_template_rows": null,
            "height": null,
            "justify_content": null,
            "justify_items": null,
            "left": null,
            "margin": null,
            "max_height": null,
            "max_width": null,
            "min_height": null,
            "min_width": null,
            "object_fit": null,
            "object_position": null,
            "order": null,
            "overflow": null,
            "overflow_x": null,
            "overflow_y": null,
            "padding": null,
            "right": null,
            "top": null,
            "visibility": null,
            "width": null
          }
        }
      }
    }
  },
  "cells": [
    {
      "cell_type": "markdown",
      "metadata": {
        "id": "view-in-github",
        "colab_type": "text"
      },
      "source": [
        "<a href=\"https://colab.research.google.com/github/stremerfort/pyscf/blob/main/pyscf.ipynb\" target=\"_parent\"><img src=\"https://colab.research.google.com/assets/colab-badge.svg\" alt=\"Open In Colab\"/></a>"
      ]
    },
    {
      "cell_type": "code",
      "execution_count": 16,
      "metadata": {
        "colab": {
          "base_uri": "https://localhost:8080/"
        },
        "id": "LZt_6dB1ir7P",
        "outputId": "474989dc-333f-4a47-d5dd-ee33d5758f0c"
      },
      "outputs": [
        {
          "output_type": "stream",
          "name": "stdout",
          "text": [
            "Requirement already satisfied: pyscf in /usr/local/lib/python3.11/dist-packages (2.8.0)\n",
            "Requirement already satisfied: numpy!=1.16,!=1.17,>=1.13 in /usr/local/lib/python3.11/dist-packages (from pyscf) (1.26.4)\n",
            "Requirement already satisfied: scipy>=1.6.0 in /usr/local/lib/python3.11/dist-packages (from pyscf) (1.13.1)\n",
            "Requirement already satisfied: h5py>=2.7 in /usr/local/lib/python3.11/dist-packages (from pyscf) (3.12.1)\n",
            "Requirement already satisfied: setuptools in /usr/local/lib/python3.11/dist-packages (from pyscf) (75.1.0)\n",
            "Requirement already satisfied: pyscf in /usr/local/lib/python3.11/dist-packages (2.8.0)\n",
            "Requirement already satisfied: py3Dmol in /usr/local/lib/python3.11/dist-packages (2.4.2)\n",
            "Requirement already satisfied: numpy!=1.16,!=1.17,>=1.13 in /usr/local/lib/python3.11/dist-packages (from pyscf) (1.26.4)\n",
            "Requirement already satisfied: scipy>=1.6.0 in /usr/local/lib/python3.11/dist-packages (from pyscf) (1.13.1)\n",
            "Requirement already satisfied: h5py>=2.7 in /usr/local/lib/python3.11/dist-packages (from pyscf) (3.12.1)\n",
            "Requirement already satisfied: setuptools in /usr/local/lib/python3.11/dist-packages (from pyscf) (75.1.0)\n",
            "Requirement already satisfied: rdkit in /usr/local/lib/python3.11/dist-packages (2024.9.4)\n",
            "Requirement already satisfied: numpy in /usr/local/lib/python3.11/dist-packages (from rdkit) (1.26.4)\n",
            "Requirement already satisfied: Pillow in /usr/local/lib/python3.11/dist-packages (from rdkit) (11.1.0)\n",
            "Requirement already satisfied: fortecubeview in /usr/local/lib/python3.11/dist-packages (0.2.4)\n",
            "Requirement already satisfied: fortecubeview in /usr/local/lib/python3.11/dist-packages (0.2.4)\n",
            "Collecting pythreejs\n",
            "  Downloading pythreejs-2.4.2-py3-none-any.whl.metadata (5.4 kB)\n",
            "Requirement already satisfied: ipywidgets>=7.2.1 in /usr/local/lib/python3.11/dist-packages (from pythreejs) (7.7.1)\n",
            "Collecting ipydatawidgets>=1.1.1 (from pythreejs)\n",
            "  Downloading ipydatawidgets-4.3.5-py2.py3-none-any.whl.metadata (1.4 kB)\n",
            "Requirement already satisfied: numpy in /usr/local/lib/python3.11/dist-packages (from pythreejs) (1.26.4)\n",
            "Requirement already satisfied: traitlets in /usr/local/lib/python3.11/dist-packages (from pythreejs) (5.7.1)\n",
            "Requirement already satisfied: traittypes>=0.2.0 in /usr/local/lib/python3.11/dist-packages (from ipydatawidgets>=1.1.1->pythreejs) (0.2.1)\n",
            "Requirement already satisfied: ipykernel>=4.5.1 in /usr/local/lib/python3.11/dist-packages (from ipywidgets>=7.2.1->pythreejs) (5.5.6)\n",
            "Requirement already satisfied: ipython-genutils~=0.2.0 in /usr/local/lib/python3.11/dist-packages (from ipywidgets>=7.2.1->pythreejs) (0.2.0)\n",
            "Requirement already satisfied: widgetsnbextension~=3.6.0 in /usr/local/lib/python3.11/dist-packages (from ipywidgets>=7.2.1->pythreejs) (3.6.10)\n",
            "Requirement already satisfied: ipython>=4.0.0 in /usr/local/lib/python3.11/dist-packages (from ipywidgets>=7.2.1->pythreejs) (7.34.0)\n",
            "Requirement already satisfied: jupyterlab-widgets>=1.0.0 in /usr/local/lib/python3.11/dist-packages (from ipywidgets>=7.2.1->pythreejs) (3.0.13)\n",
            "Requirement already satisfied: jupyter-client in /usr/local/lib/python3.11/dist-packages (from ipykernel>=4.5.1->ipywidgets>=7.2.1->pythreejs) (6.1.12)\n",
            "Requirement already satisfied: tornado>=4.2 in /usr/local/lib/python3.11/dist-packages (from ipykernel>=4.5.1->ipywidgets>=7.2.1->pythreejs) (6.3.3)\n",
            "Requirement already satisfied: setuptools>=18.5 in /usr/local/lib/python3.11/dist-packages (from ipython>=4.0.0->ipywidgets>=7.2.1->pythreejs) (75.1.0)\n",
            "Collecting jedi>=0.16 (from ipython>=4.0.0->ipywidgets>=7.2.1->pythreejs)\n",
            "  Downloading jedi-0.19.2-py2.py3-none-any.whl.metadata (22 kB)\n",
            "Requirement already satisfied: decorator in /usr/local/lib/python3.11/dist-packages (from ipython>=4.0.0->ipywidgets>=7.2.1->pythreejs) (4.4.2)\n",
            "Requirement already satisfied: pickleshare in /usr/local/lib/python3.11/dist-packages (from ipython>=4.0.0->ipywidgets>=7.2.1->pythreejs) (0.7.5)\n",
            "Requirement already satisfied: prompt-toolkit!=3.0.0,!=3.0.1,<3.1.0,>=2.0.0 in /usr/local/lib/python3.11/dist-packages (from ipython>=4.0.0->ipywidgets>=7.2.1->pythreejs) (3.0.50)\n",
            "Requirement already satisfied: pygments in /usr/local/lib/python3.11/dist-packages (from ipython>=4.0.0->ipywidgets>=7.2.1->pythreejs) (2.18.0)\n",
            "Requirement already satisfied: backcall in /usr/local/lib/python3.11/dist-packages (from ipython>=4.0.0->ipywidgets>=7.2.1->pythreejs) (0.2.0)\n",
            "Requirement already satisfied: matplotlib-inline in /usr/local/lib/python3.11/dist-packages (from ipython>=4.0.0->ipywidgets>=7.2.1->pythreejs) (0.1.7)\n",
            "Requirement already satisfied: pexpect>4.3 in /usr/local/lib/python3.11/dist-packages (from ipython>=4.0.0->ipywidgets>=7.2.1->pythreejs) (4.9.0)\n",
            "Requirement already satisfied: notebook>=4.4.1 in /usr/local/lib/python3.11/dist-packages (from widgetsnbextension~=3.6.0->ipywidgets>=7.2.1->pythreejs) (6.5.5)\n",
            "Requirement already satisfied: parso<0.9.0,>=0.8.4 in /usr/local/lib/python3.11/dist-packages (from jedi>=0.16->ipython>=4.0.0->ipywidgets>=7.2.1->pythreejs) (0.8.4)\n",
            "Requirement already satisfied: jinja2 in /usr/local/lib/python3.11/dist-packages (from notebook>=4.4.1->widgetsnbextension~=3.6.0->ipywidgets>=7.2.1->pythreejs) (3.1.5)\n",
            "Requirement already satisfied: pyzmq<25,>=17 in /usr/local/lib/python3.11/dist-packages (from notebook>=4.4.1->widgetsnbextension~=3.6.0->ipywidgets>=7.2.1->pythreejs) (24.0.1)\n",
            "Requirement already satisfied: argon2-cffi in /usr/local/lib/python3.11/dist-packages (from notebook>=4.4.1->widgetsnbextension~=3.6.0->ipywidgets>=7.2.1->pythreejs) (23.1.0)\n",
            "Requirement already satisfied: jupyter-core>=4.6.1 in /usr/local/lib/python3.11/dist-packages (from notebook>=4.4.1->widgetsnbextension~=3.6.0->ipywidgets>=7.2.1->pythreejs) (5.7.2)\n",
            "Requirement already satisfied: nbformat in /usr/local/lib/python3.11/dist-packages (from notebook>=4.4.1->widgetsnbextension~=3.6.0->ipywidgets>=7.2.1->pythreejs) (5.10.4)\n",
            "Requirement already satisfied: nbconvert>=5 in /usr/local/lib/python3.11/dist-packages (from notebook>=4.4.1->widgetsnbextension~=3.6.0->ipywidgets>=7.2.1->pythreejs) (7.16.5)\n",
            "Requirement already satisfied: nest-asyncio>=1.5 in /usr/local/lib/python3.11/dist-packages (from notebook>=4.4.1->widgetsnbextension~=3.6.0->ipywidgets>=7.2.1->pythreejs) (1.6.0)\n",
            "Requirement already satisfied: Send2Trash>=1.8.0 in /usr/local/lib/python3.11/dist-packages (from notebook>=4.4.1->widgetsnbextension~=3.6.0->ipywidgets>=7.2.1->pythreejs) (1.8.3)\n",
            "Requirement already satisfied: terminado>=0.8.3 in /usr/local/lib/python3.11/dist-packages (from notebook>=4.4.1->widgetsnbextension~=3.6.0->ipywidgets>=7.2.1->pythreejs) (0.18.1)\n",
            "Requirement already satisfied: prometheus-client in /usr/local/lib/python3.11/dist-packages (from notebook>=4.4.1->widgetsnbextension~=3.6.0->ipywidgets>=7.2.1->pythreejs) (0.21.1)\n",
            "Requirement already satisfied: nbclassic>=0.4.7 in /usr/local/lib/python3.11/dist-packages (from notebook>=4.4.1->widgetsnbextension~=3.6.0->ipywidgets>=7.2.1->pythreejs) (1.2.0)\n",
            "Requirement already satisfied: python-dateutil>=2.1 in /usr/local/lib/python3.11/dist-packages (from jupyter-client->ipykernel>=4.5.1->ipywidgets>=7.2.1->pythreejs) (2.8.2)\n",
            "Requirement already satisfied: ptyprocess>=0.5 in /usr/local/lib/python3.11/dist-packages (from pexpect>4.3->ipython>=4.0.0->ipywidgets>=7.2.1->pythreejs) (0.7.0)\n",
            "Requirement already satisfied: wcwidth in /usr/local/lib/python3.11/dist-packages (from prompt-toolkit!=3.0.0,!=3.0.1,<3.1.0,>=2.0.0->ipython>=4.0.0->ipywidgets>=7.2.1->pythreejs) (0.2.13)\n",
            "Requirement already satisfied: platformdirs>=2.5 in /usr/local/lib/python3.11/dist-packages (from jupyter-core>=4.6.1->notebook>=4.4.1->widgetsnbextension~=3.6.0->ipywidgets>=7.2.1->pythreejs) (4.3.6)\n",
            "Requirement already satisfied: notebook-shim>=0.2.3 in /usr/local/lib/python3.11/dist-packages (from nbclassic>=0.4.7->notebook>=4.4.1->widgetsnbextension~=3.6.0->ipywidgets>=7.2.1->pythreejs) (0.2.4)\n",
            "Requirement already satisfied: beautifulsoup4 in /usr/local/lib/python3.11/dist-packages (from nbconvert>=5->notebook>=4.4.1->widgetsnbextension~=3.6.0->ipywidgets>=7.2.1->pythreejs) (4.12.3)\n",
            "Requirement already satisfied: bleach!=5.0.0 in /usr/local/lib/python3.11/dist-packages (from bleach[css]!=5.0.0->nbconvert>=5->notebook>=4.4.1->widgetsnbextension~=3.6.0->ipywidgets>=7.2.1->pythreejs) (6.2.0)\n",
            "Requirement already satisfied: defusedxml in /usr/local/lib/python3.11/dist-packages (from nbconvert>=5->notebook>=4.4.1->widgetsnbextension~=3.6.0->ipywidgets>=7.2.1->pythreejs) (0.7.1)\n",
            "Requirement already satisfied: jupyterlab-pygments in /usr/local/lib/python3.11/dist-packages (from nbconvert>=5->notebook>=4.4.1->widgetsnbextension~=3.6.0->ipywidgets>=7.2.1->pythreejs) (0.3.0)\n",
            "Requirement already satisfied: markupsafe>=2.0 in /usr/local/lib/python3.11/dist-packages (from nbconvert>=5->notebook>=4.4.1->widgetsnbextension~=3.6.0->ipywidgets>=7.2.1->pythreejs) (3.0.2)\n",
            "Requirement already satisfied: mistune<4,>=2.0.3 in /usr/local/lib/python3.11/dist-packages (from nbconvert>=5->notebook>=4.4.1->widgetsnbextension~=3.6.0->ipywidgets>=7.2.1->pythreejs) (3.1.0)\n",
            "Requirement already satisfied: nbclient>=0.5.0 in /usr/local/lib/python3.11/dist-packages (from nbconvert>=5->notebook>=4.4.1->widgetsnbextension~=3.6.0->ipywidgets>=7.2.1->pythreejs) (0.10.2)\n",
            "Requirement already satisfied: packaging in /usr/local/lib/python3.11/dist-packages (from nbconvert>=5->notebook>=4.4.1->widgetsnbextension~=3.6.0->ipywidgets>=7.2.1->pythreejs) (24.2)\n",
            "Requirement already satisfied: pandocfilters>=1.4.1 in /usr/local/lib/python3.11/dist-packages (from nbconvert>=5->notebook>=4.4.1->widgetsnbextension~=3.6.0->ipywidgets>=7.2.1->pythreejs) (1.5.1)\n",
            "Requirement already satisfied: fastjsonschema>=2.15 in /usr/local/lib/python3.11/dist-packages (from nbformat->notebook>=4.4.1->widgetsnbextension~=3.6.0->ipywidgets>=7.2.1->pythreejs) (2.21.1)\n",
            "Requirement already satisfied: jsonschema>=2.6 in /usr/local/lib/python3.11/dist-packages (from nbformat->notebook>=4.4.1->widgetsnbextension~=3.6.0->ipywidgets>=7.2.1->pythreejs) (4.23.0)\n",
            "Requirement already satisfied: six>=1.5 in /usr/local/lib/python3.11/dist-packages (from python-dateutil>=2.1->jupyter-client->ipykernel>=4.5.1->ipywidgets>=7.2.1->pythreejs) (1.17.0)\n",
            "Requirement already satisfied: argon2-cffi-bindings in /usr/local/lib/python3.11/dist-packages (from argon2-cffi->notebook>=4.4.1->widgetsnbextension~=3.6.0->ipywidgets>=7.2.1->pythreejs) (21.2.0)\n",
            "Requirement already satisfied: webencodings in /usr/local/lib/python3.11/dist-packages (from bleach!=5.0.0->bleach[css]!=5.0.0->nbconvert>=5->notebook>=4.4.1->widgetsnbextension~=3.6.0->ipywidgets>=7.2.1->pythreejs) (0.5.1)\n",
            "Requirement already satisfied: tinycss2<1.5,>=1.1.0 in /usr/local/lib/python3.11/dist-packages (from bleach[css]!=5.0.0->nbconvert>=5->notebook>=4.4.1->widgetsnbextension~=3.6.0->ipywidgets>=7.2.1->pythreejs) (1.4.0)\n",
            "Requirement already satisfied: attrs>=22.2.0 in /usr/local/lib/python3.11/dist-packages (from jsonschema>=2.6->nbformat->notebook>=4.4.1->widgetsnbextension~=3.6.0->ipywidgets>=7.2.1->pythreejs) (24.3.0)\n",
            "Requirement already satisfied: jsonschema-specifications>=2023.03.6 in /usr/local/lib/python3.11/dist-packages (from jsonschema>=2.6->nbformat->notebook>=4.4.1->widgetsnbextension~=3.6.0->ipywidgets>=7.2.1->pythreejs) (2024.10.1)\n",
            "Requirement already satisfied: referencing>=0.28.4 in /usr/local/lib/python3.11/dist-packages (from jsonschema>=2.6->nbformat->notebook>=4.4.1->widgetsnbextension~=3.6.0->ipywidgets>=7.2.1->pythreejs) (0.36.1)\n",
            "Requirement already satisfied: rpds-py>=0.7.1 in /usr/local/lib/python3.11/dist-packages (from jsonschema>=2.6->nbformat->notebook>=4.4.1->widgetsnbextension~=3.6.0->ipywidgets>=7.2.1->pythreejs) (0.22.3)\n",
            "Requirement already satisfied: jupyter-server<3,>=1.8 in /usr/local/lib/python3.11/dist-packages (from notebook-shim>=0.2.3->nbclassic>=0.4.7->notebook>=4.4.1->widgetsnbextension~=3.6.0->ipywidgets>=7.2.1->pythreejs) (1.24.0)\n",
            "Requirement already satisfied: cffi>=1.0.1 in /usr/local/lib/python3.11/dist-packages (from argon2-cffi-bindings->argon2-cffi->notebook>=4.4.1->widgetsnbextension~=3.6.0->ipywidgets>=7.2.1->pythreejs) (1.17.1)\n",
            "Requirement already satisfied: soupsieve>1.2 in /usr/local/lib/python3.11/dist-packages (from beautifulsoup4->nbconvert>=5->notebook>=4.4.1->widgetsnbextension~=3.6.0->ipywidgets>=7.2.1->pythreejs) (2.6)\n",
            "Requirement already satisfied: pycparser in /usr/local/lib/python3.11/dist-packages (from cffi>=1.0.1->argon2-cffi-bindings->argon2-cffi->notebook>=4.4.1->widgetsnbextension~=3.6.0->ipywidgets>=7.2.1->pythreejs) (2.22)\n",
            "Requirement already satisfied: anyio<4,>=3.1.0 in /usr/local/lib/python3.11/dist-packages (from jupyter-server<3,>=1.8->notebook-shim>=0.2.3->nbclassic>=0.4.7->notebook>=4.4.1->widgetsnbextension~=3.6.0->ipywidgets>=7.2.1->pythreejs) (3.7.1)\n",
            "Requirement already satisfied: websocket-client in /usr/local/lib/python3.11/dist-packages (from jupyter-server<3,>=1.8->notebook-shim>=0.2.3->nbclassic>=0.4.7->notebook>=4.4.1->widgetsnbextension~=3.6.0->ipywidgets>=7.2.1->pythreejs) (1.8.0)\n",
            "Requirement already satisfied: typing-extensions>=4.4.0 in /usr/local/lib/python3.11/dist-packages (from referencing>=0.28.4->jsonschema>=2.6->nbformat->notebook>=4.4.1->widgetsnbextension~=3.6.0->ipywidgets>=7.2.1->pythreejs) (4.12.2)\n",
            "Requirement already satisfied: idna>=2.8 in /usr/local/lib/python3.11/dist-packages (from anyio<4,>=3.1.0->jupyter-server<3,>=1.8->notebook-shim>=0.2.3->nbclassic>=0.4.7->notebook>=4.4.1->widgetsnbextension~=3.6.0->ipywidgets>=7.2.1->pythreejs) (3.10)\n",
            "Requirement already satisfied: sniffio>=1.1 in /usr/local/lib/python3.11/dist-packages (from anyio<4,>=3.1.0->jupyter-server<3,>=1.8->notebook-shim>=0.2.3->nbclassic>=0.4.7->notebook>=4.4.1->widgetsnbextension~=3.6.0->ipywidgets>=7.2.1->pythreejs) (1.3.1)\n",
            "Downloading pythreejs-2.4.2-py3-none-any.whl (3.4 MB)\n",
            "\u001b[2K   \u001b[90m━━━━━━━━━━━━━━━━━━━━━━━━━━━━━━━━━━━━━━━━\u001b[0m \u001b[32m3.4/3.4 MB\u001b[0m \u001b[31m45.7 MB/s\u001b[0m eta \u001b[36m0:00:00\u001b[0m\n",
            "\u001b[?25hDownloading ipydatawidgets-4.3.5-py2.py3-none-any.whl (271 kB)\n",
            "\u001b[2K   \u001b[90m━━━━━━━━━━━━━━━━━━━━━━━━━━━━━━━━━━━━━━━━\u001b[0m \u001b[32m271.7/271.7 kB\u001b[0m \u001b[31m27.8 MB/s\u001b[0m eta \u001b[36m0:00:00\u001b[0m\n",
            "\u001b[?25hDownloading jedi-0.19.2-py2.py3-none-any.whl (1.6 MB)\n",
            "\u001b[2K   \u001b[90m━━━━━━━━━━━━━━━━━━━━━━━━━━━━━━━━━━━━━━━━\u001b[0m \u001b[32m1.6/1.6 MB\u001b[0m \u001b[31m75.9 MB/s\u001b[0m eta \u001b[36m0:00:00\u001b[0m\n",
            "\u001b[?25hInstalling collected packages: jedi, ipydatawidgets, pythreejs\n",
            "Successfully installed ipydatawidgets-4.3.5 jedi-0.19.2 pythreejs-2.4.2\n"
          ]
        }
      ],
      "source": [
        "!pip install pyscf\n",
        "!pip install pyscf py3Dmol\n",
        "!pip install rdkit\n",
        "!pip install fortecubeview\n",
        "!pip install fortecubeview\n",
        "!pip install pythreejs"
      ]
    },
    {
      "cell_type": "markdown",
      "source": [],
      "metadata": {
        "id": "t83YwHuYrX-s"
      }
    },
    {
      "cell_type": "code",
      "source": [
        "import pathlib\n",
        "\n",
        "# RDKit imports:\n",
        "from rdkit import Chem\n",
        "from rdkit.Chem import (\n",
        "    AllChem,\n",
        "    rdCoordGen,\n",
        ")\n",
        "from rdkit.Chem.Draw import IPythonConsole\n",
        "\n",
        "IPythonConsole.ipython_useSVG = True  # Use higher quality images for molecules\n",
        "\n",
        "# For visualization of molecules and orbitals:\n",
        "import py3Dmol\n",
        "import fortecubeview\n",
        "\n",
        "# pyscf imports:\n",
        "from pyscf import gto, scf, lo, tools\n",
        "\n",
        "# For plotting\n",
        "import matplotlib\n",
        "from matplotlib import pyplot as plt\n",
        "import seaborn as sns\n",
        "\n",
        "%matplotlib inline\n",
        "sns.set_theme(style=\"ticks\", context=\"talk\", palette=\"muted\")\n",
        "\n",
        "# For numerics:\n",
        "import numpy as np\n",
        "import pandas as pd\n",
        "\n",
        "pd.options.display.float_format = \"{:,.3f}\".format\n",
        "#guardar en github\n",
        "from getpass import getpass\n",
        "import subprocess"
      ],
      "metadata": {
        "id": "qVEa1y9arQdR"
      },
      "execution_count": 40,
      "outputs": []
    },
    {
      "cell_type": "markdown",
      "source": [
        "Set up the molecule with RDKit"
      ],
      "metadata": {
        "id": "PH2f57ycDJhD"
      }
    },
    {
      "cell_type": "code",
      "source": [
        "molecule_name = \"ethene\"\n",
        "molecule = Chem.MolFromSmiles(\"C=C\")  # Generate the molecule from smiles\n",
        "molecule"
      ],
      "metadata": {
        "colab": {
          "base_uri": "https://localhost:8080/",
          "height": 172
        },
        "id": "DIbUlQmY7Ne_",
        "outputId": "179d793b-e504-4ed0-dd89-b1a8afafd282"
      },
      "execution_count": 18,
      "outputs": [
        {
          "output_type": "execute_result",
          "data": {
            "text/plain": [
              "<rdkit.Chem.rdchem.Mol at 0x7843a1c1be60>"
            ],
            "text/html": [
              "<?xml version='1.0' encoding='iso-8859-1'?>\n",
              "<svg version='1.1' baseProfile='full'\n",
              "              xmlns='http://www.w3.org/2000/svg'\n",
              "                      xmlns:rdkit='http://www.rdkit.org/xml'\n",
              "                      xmlns:xlink='http://www.w3.org/1999/xlink'\n",
              "                  xml:space='preserve'\n",
              "width='450px' height='150px' viewBox='0 0 450 150'>\n",
              "<!-- END OF HEADER -->\n",
              "<rect style='opacity:1.0;fill:#FFFFFF;stroke:none' width='450.0' height='150.0' x='0.0' y='0.0'> </rect>\n",
              "<path class='bond-0 atom-0 atom-1' d='M 22.5,44.6 L 427.5,44.6' style='fill:none;fill-rule:evenodd;stroke:#000000;stroke-width:2.0px;stroke-linecap:butt;stroke-linejoin:miter;stroke-opacity:1' />\n",
              "<path class='bond-0 atom-0 atom-1' d='M 22.5,105.4 L 427.5,105.4' style='fill:none;fill-rule:evenodd;stroke:#000000;stroke-width:2.0px;stroke-linecap:butt;stroke-linejoin:miter;stroke-opacity:1' />\n",
              "</svg>\n"
            ],
            "image/svg+xml": "<?xml version='1.0' encoding='iso-8859-1'?>\n<svg version='1.1' baseProfile='full'\n              xmlns='http://www.w3.org/2000/svg'\n                      xmlns:rdkit='http://www.rdkit.org/xml'\n                      xmlns:xlink='http://www.w3.org/1999/xlink'\n                  xml:space='preserve'\nwidth='450px' height='150px' viewBox='0 0 450 150'>\n<!-- END OF HEADER -->\n<rect style='opacity:1.0;fill:#FFFFFF;stroke:none' width='450.0' height='150.0' x='0.0' y='0.0'> </rect>\n<path class='bond-0 atom-0 atom-1' d='M 22.5,44.6 L 427.5,44.6' style='fill:none;fill-rule:evenodd;stroke:#000000;stroke-width:2.0px;stroke-linecap:butt;stroke-linejoin:miter;stroke-opacity:1' />\n<path class='bond-0 atom-0 atom-1' d='M 22.5,105.4 L 427.5,105.4' style='fill:none;fill-rule:evenodd;stroke:#000000;stroke-width:2.0px;stroke-linecap:butt;stroke-linejoin:miter;stroke-opacity:1' />\n</svg>\n",
            "image/png": "[encoded data removed]"
          },
          "metadata": {},
          "execution_count": 18
        }
      ]
    },
    {
      "cell_type": "code",
      "source": [
        "def get_xyz(molecule, optimize=False):\n",
        "    \"\"\"Get xyz-coordinates for the molecule\"\"\"\n",
        "    mol = Chem.Mol(molecule)\n",
        "    mol = AllChem.AddHs(mol, addCoords=True)\n",
        "    AllChem.EmbedMolecule(mol)\n",
        "    if optimize:  # Optimize the molecules with the MM force field:\n",
        "        AllChem.MMFFOptimizeMolecule(mol)\n",
        "    xyz = []\n",
        "    for lines in Chem.MolToXYZBlock(mol).split(\"\\n\")[2:]:\n",
        "        strip = lines.strip()\n",
        "        if strip:\n",
        "            xyz.append(strip)\n",
        "    xyz = \"\\n\".join(xyz)\n",
        "    return mol, xyz"
      ],
      "metadata": {
        "id": "VbyHSeOTDOuo"
      },
      "execution_count": 19,
      "outputs": []
    },
    {
      "cell_type": "code",
      "source": [
        "molecule3d, xyz = get_xyz(molecule)"
      ],
      "metadata": {
        "id": "vF95RpftDTYA"
      },
      "execution_count": 20,
      "outputs": []
    },
    {
      "cell_type": "code",
      "source": [
        "view = py3Dmol.view(\n",
        "    data=Chem.MolToMolBlock(molecule3d),\n",
        "    style={\"stick\": {}, \"sphere\": {\"scale\": 0.3}},\n",
        "    width=300,\n",
        "    height=300,\n",
        ")\n",
        "view.zoomTo()"
      ],
      "metadata": {
        "colab": {
          "base_uri": "https://localhost:8080/",
          "height": 334
        },
        "id": "hR8ECjWFDWRd",
        "outputId": "3000ed37-7604-4ada-8a69-3a151c931066"
      },
      "execution_count": 21,
      "outputs": [
        {
          "output_type": "display_data",
          "data": {
            "application/3dmoljs_load.v0": "<div id=\"3dmolviewer_17381204714534085\"  style=\"position: relative; width: 300px; height: 300px;\">\n        <p id=\"3dmolwarning_17381204714534085\" style=\"background-color:#ffcccc;color:black\">3Dmol.js failed to load for some reason.  Please check your browser console for error messages.<br></p>\n        </div>\n<script>\n\nvar loadScriptAsync = function(uri){\n  return new Promise((resolve, reject) => {\n    //this is to ignore the existence of requirejs amd\n    var savedexports, savedmodule;\n    if (typeof exports !== 'undefined') savedexports = exports;\n    else exports = {}\n    if (typeof module !== 'undefined') savedmodule = module;\n    else module = {}\n\n    var tag = document.createElement('script');\n    tag.src = uri;\n    tag.async = true;\n    tag.onload = () => {\n        exports = savedexports;\n        module = savedmodule;\n        resolve();\n    };\n  var firstScriptTag = document.getElementsByTagName('script')[0];\n  firstScriptTag.parentNode.insertBefore(tag, firstScriptTag);\n});\n};\n\nif(typeof $3Dmolpromise === 'undefined') {\n$3Dmolpromise = null;\n  $3Dmolpromise = loadScriptAsync('https://cdnjs.cloudflare.com/ajax/libs/3Dmol/2.4.2/3Dmol-min.js');\n}\n\nvar viewer_17381204714534085 = null;\nvar warn = document.getElementById(\"3dmolwarning_17381204714534085\");\nif(warn) {\n    warn.parentNode.removeChild(warn);\n}\n$3Dmolpromise.then(function() {\nviewer_17381204714534085 = $3Dmol.createViewer(document.getElementById(\"3dmolviewer_17381204714534085\"),{backgroundColor:\"white\"});\nviewer_17381204714534085.addModel(\"\\n     RDKit          3D\\n\\n  6  5  0  0  0  0  0  0  0  0999 V2000\\n   -0.6538    0.0500    0.1525 C   0  0  0  0  0  0  0  0  0  0  0  0\\n    0.6616   -0.0063   -0.1461 C   0  0  0  0  0  0  0  0  0  0  0  0\\n   -1.1665   -0.9124    0.0863 H   0  0  0  0  0  0  0  0  0  0  0  0\\n   -1.1422    0.9670    0.4295 H   0  0  0  0  0  0  0  0  0  0  0  0\\n    1.0287   -0.9853   -0.4080 H   0  0  0  0  0  0  0  0  0  0  0  0\\n    1.2722    0.8870   -0.1142 H   0  0  0  0  0  0  0  0  0  0  0  0\\n  1  2  2  0\\n  1  3  1  0\\n  1  4  1  0\\n  2  5  1  0\\n  2  6  1  0\\nM  END\\n\");\nviewer_17381204714534085.setStyle({\"stick\": {}, \"sphere\": {\"scale\": 0.3}});\nviewer_17381204714534085.zoomTo();\n\tviewer_17381204714534085.zoomTo();\nviewer_17381204714534085.render();\n});\n</script>",
            "text/html": [
              "<div id=\"3dmolviewer_17381204714534085\"  style=\"position: relative; width: 300px; height: 300px;\">\n",
              "        <p id=\"3dmolwarning_17381204714534085\" style=\"background-color:#ffcccc;color:black\">3Dmol.js failed to load for some reason.  Please check your browser console for error messages.<br></p>\n",
              "        </div>\n",
              "<script>\n",
              "\n",
              "var loadScriptAsync = function(uri){\n",
              "  return new Promise((resolve, reject) => {\n",
              "    //this is to ignore the existence of requirejs amd\n",
              "    var savedexports, savedmodule;\n",
              "    if (typeof exports !== 'undefined') savedexports = exports;\n",
              "    else exports = {}\n",
              "    if (typeof module !== 'undefined') savedmodule = module;\n",
              "    else module = {}\n",
              "\n",
              "    var tag = document.createElement('script');\n",
              "    tag.src = uri;\n",
              "    tag.async = true;\n",
              "    tag.onload = () => {\n",
              "        exports = savedexports;\n",
              "        module = savedmodule;\n",
              "        resolve();\n",
              "    };\n",
              "  var firstScriptTag = document.getElementsByTagName('script')[0];\n",
              "  firstScriptTag.parentNode.insertBefore(tag, firstScriptTag);\n",
              "});\n",
              "};\n",
              "\n",
              "if(typeof $3Dmolpromise === 'undefined') {\n",
              "$3Dmolpromise = null;\n",
              "  $3Dmolpromise = loadScriptAsync('https://cdnjs.cloudflare.com/ajax/libs/3Dmol/2.4.2/3Dmol-min.js');\n",
              "}\n",
              "\n",
              "var viewer_17381204714534085 = null;\n",
              "var warn = document.getElementById(\"3dmolwarning_17381204714534085\");\n",
              "if(warn) {\n",
              "    warn.parentNode.removeChild(warn);\n",
              "}\n",
              "$3Dmolpromise.then(function() {\n",
              "viewer_17381204714534085 = $3Dmol.createViewer(document.getElementById(\"3dmolviewer_17381204714534085\"),{backgroundColor:\"white\"});\n",
              "viewer_17381204714534085.addModel(\"\\n     RDKit          3D\\n\\n  6  5  0  0  0  0  0  0  0  0999 V2000\\n   -0.6538    0.0500    0.1525 C   0  0  0  0  0  0  0  0  0  0  0  0\\n    0.6616   -0.0063   -0.1461 C   0  0  0  0  0  0  0  0  0  0  0  0\\n   -1.1665   -0.9124    0.0863 H   0  0  0  0  0  0  0  0  0  0  0  0\\n   -1.1422    0.9670    0.4295 H   0  0  0  0  0  0  0  0  0  0  0  0\\n    1.0287   -0.9853   -0.4080 H   0  0  0  0  0  0  0  0  0  0  0  0\\n    1.2722    0.8870   -0.1142 H   0  0  0  0  0  0  0  0  0  0  0  0\\n  1  2  2  0\\n  1  3  1  0\\n  1  4  1  0\\n  2  5  1  0\\n  2  6  1  0\\nM  END\\n\");\n",
              "viewer_17381204714534085.setStyle({\"stick\": {}, \"sphere\": {\"scale\": 0.3}});\n",
              "viewer_17381204714534085.zoomTo();\n",
              "\tviewer_17381204714534085.zoomTo();\n",
              "viewer_17381204714534085.render();\n",
              "});\n",
              "</script>"
            ]
          },
          "metadata": {}
        },
        {
          "output_type": "execute_result",
          "data": {
            "text/plain": [
              "<py3Dmol.view at 0x7843ad3669d0>"
            ]
          },
          "metadata": {},
          "execution_count": 21
        }
      ]
    },
    {
      "cell_type": "markdown",
      "source": [
        "Run pyscf and calculate molecular orbitals"
      ],
      "metadata": {
        "id": "tGhVcHI0DhOH"
      }
    },
    {
      "cell_type": "code",
      "source": [
        "def run_calculation(xyz, basis=\"sto-3g\"):\n",
        "    \"\"\"Calculate the energy (+ additional things like MO coefficients) with pyscf.\"\"\"\n",
        "    mol = gto.M(\n",
        "        atom=xyz,\n",
        "        basis=basis,\n",
        "        unit=\"ANG\",\n",
        "        symmetry=True,\n",
        "    )\n",
        "    mol.build()\n",
        "    mf = scf.RHF(mol).run()\n",
        "    return mf, mol"
      ],
      "metadata": {
        "id": "tMA6g8mWDaDw"
      },
      "execution_count": 22,
      "outputs": []
    },
    {
      "cell_type": "code",
      "source": [
        "mf, mol = run_calculation(xyz, basis=\"sto-3g\")"
      ],
      "metadata": {
        "colab": {
          "base_uri": "https://localhost:8080/"
        },
        "id": "FJoDqMyKDnQP",
        "outputId": "5a332b67-26c9-4caf-b2fb-fc118c849c7b"
      },
      "execution_count": 23,
      "outputs": [
        {
          "output_type": "stream",
          "name": "stdout",
          "text": [
            "converged SCF energy = -77.0658317442502\n"
          ]
        }
      ]
    },
    {
      "cell_type": "code",
      "source": [
        "table = pd.DataFrame({\"Energy\": mf.mo_energy, \"Occupancy\": mf.mo_occ})\n",
        "table"
      ],
      "metadata": {
        "colab": {
          "base_uri": "https://localhost:8080/",
          "height": 488
        },
        "id": "1dFtFVKkDsYB",
        "outputId": "7ce3a6a2-38d4-4d59-c637-a441f33fe3c4"
      },
      "execution_count": 24,
      "outputs": [
        {
          "output_type": "execute_result",
          "data": {
            "text/plain": [
              "    Energy  Occupancy\n",
              "0  -11.016      2.000\n",
              "1  -11.015      2.000\n",
              "2   -0.976      2.000\n",
              "3   -0.737      2.000\n",
              "4   -0.613      2.000\n",
              "5   -0.511      2.000\n",
              "6   -0.470      2.000\n",
              "7   -0.318      2.000\n",
              "8    0.315      0.000\n",
              "9    0.653      0.000\n",
              "10   0.669      0.000\n",
              "11   0.687      0.000\n",
              "12   0.929      0.000\n",
              "13   0.990      0.000"
            ],
            "text/html": [
              "\n",
              "  <div id=\"df-2de5fcd6-919a-4871-ae89-bbacbc987651\" class=\"colab-df-container\">\n",
              "    <div>\n",
              "<style scoped>\n",
              "    .dataframe tbody tr th:only-of-type {\n",
              "        vertical-align: middle;\n",
              "    }\n",
              "\n",
              "    .dataframe tbody tr th {\n",
              "        vertical-align: top;\n",
              "    }\n",
              "\n",
              "    .dataframe thead th {\n",
              "        text-align: right;\n",
              "    }\n",
              "</style>\n",
              "<table border=\"1\" class=\"dataframe\">\n",
              "  <thead>\n",
              "    <tr style=\"text-align: right;\">\n",
              "      <th></th>\n",
              "      <th>Energy</th>\n",
              "      <th>Occupancy</th>\n",
              "    </tr>\n",
              "  </thead>\n",
              "  <tbody>\n",
              "    <tr>\n",
              "      <th>0</th>\n",
              "      <td>-11.016</td>\n",
              "      <td>2.000</td>\n",
              "    </tr>\n",
              "    <tr>\n",
              "      <th>1</th>\n",
              "      <td>-11.015</td>\n",
              "      <td>2.000</td>\n",
              "    </tr>\n",
              "    <tr>\n",
              "      <th>2</th>\n",
              "      <td>-0.976</td>\n",
              "      <td>2.000</td>\n",
              "    </tr>\n",
              "    <tr>\n",
              "      <th>3</th>\n",
              "      <td>-0.737</td>\n",
              "      <td>2.000</td>\n",
              "    </tr>\n",
              "    <tr>\n",
              "      <th>4</th>\n",
              "      <td>-0.613</td>\n",
              "      <td>2.000</td>\n",
              "    </tr>\n",
              "    <tr>\n",
              "      <th>5</th>\n",
              "      <td>-0.511</td>\n",
              "      <td>2.000</td>\n",
              "    </tr>\n",
              "    <tr>\n",
              "      <th>6</th>\n",
              "      <td>-0.470</td>\n",
              "      <td>2.000</td>\n",
              "    </tr>\n",
              "    <tr>\n",
              "      <th>7</th>\n",
              "      <td>-0.318</td>\n",
              "      <td>2.000</td>\n",
              "    </tr>\n",
              "    <tr>\n",
              "      <th>8</th>\n",
              "      <td>0.315</td>\n",
              "      <td>0.000</td>\n",
              "    </tr>\n",
              "    <tr>\n",
              "      <th>9</th>\n",
              "      <td>0.653</td>\n",
              "      <td>0.000</td>\n",
              "    </tr>\n",
              "    <tr>\n",
              "      <th>10</th>\n",
              "      <td>0.669</td>\n",
              "      <td>0.000</td>\n",
              "    </tr>\n",
              "    <tr>\n",
              "      <th>11</th>\n",
              "      <td>0.687</td>\n",
              "      <td>0.000</td>\n",
              "    </tr>\n",
              "    <tr>\n",
              "      <th>12</th>\n",
              "      <td>0.929</td>\n",
              "      <td>0.000</td>\n",
              "    </tr>\n",
              "    <tr>\n",
              "      <th>13</th>\n",
              "      <td>0.990</td>\n",
              "      <td>0.000</td>\n",
              "    </tr>\n",
              "  </tbody>\n",
              "</table>\n",
              "</div>\n",
              "    <div class=\"colab-df-buttons\">\n",
              "\n",
              "  <div class=\"colab-df-container\">\n",
              "    <button class=\"colab-df-convert\" onclick=\"convertToInteractive('df-2de5fcd6-919a-4871-ae89-bbacbc987651')\"\n",
              "            title=\"Convert this dataframe to an interactive table.\"\n",
              "            style=\"display:none;\">\n",
              "\n",
              "  <svg xmlns=\"http://www.w3.org/2000/svg\" height=\"24px\" viewBox=\"0 -960 960 960\">\n",
              "    <path d=\"M120-120v-720h720v720H120Zm60-500h600v-160H180v160Zm220 220h160v-160H400v160Zm0 220h160v-160H400v160ZM180-400h160v-160H180v160Zm440 0h160v-160H620v160ZM180-180h160v-160H180v160Zm440 0h160v-160H620v160Z\"/>\n",
              "  </svg>\n",
              "    </button>\n",
              "\n",
              "  <style>\n",
              "    .colab-df-container {\n",
              "      display:flex;\n",
              "      gap: 12px;\n",
              "    }\n",
              "\n",
              "    .colab-df-convert {\n",
              "      background-color: #E8F0FE;\n",
              "      border: none;\n",
              "      border-radius: 50%;\n",
              "      cursor: pointer;\n",
              "      display: none;\n",
              "      fill: #1967D2;\n",
              "      height: 32px;\n",
              "      padding: 0 0 0 0;\n",
              "      width: 32px;\n",
              "    }\n",
              "\n",
              "    .colab-df-convert:hover {\n",
              "      background-color: #E2EBFA;\n",
              "      box-shadow: 0px 1px 2px rgba(60, 64, 67, 0.3), 0px 1px 3px 1px rgba(60, 64, 67, 0.15);\n",
              "      fill: #174EA6;\n",
              "    }\n",
              "\n",
              "    .colab-df-buttons div {\n",
              "      margin-bottom: 4px;\n",
              "    }\n",
              "\n",
              "    [theme=dark] .colab-df-convert {\n",
              "      background-color: #3B4455;\n",
              "      fill: #D2E3FC;\n",
              "    }\n",
              "\n",
              "    [theme=dark] .colab-df-convert:hover {\n",
              "      background-color: #434B5C;\n",
              "      box-shadow: 0px 1px 3px 1px rgba(0, 0, 0, 0.15);\n",
              "      filter: drop-shadow(0px 1px 2px rgba(0, 0, 0, 0.3));\n",
              "      fill: #FFFFFF;\n",
              "    }\n",
              "  </style>\n",
              "\n",
              "    <script>\n",
              "      const buttonEl =\n",
              "        document.querySelector('#df-2de5fcd6-919a-4871-ae89-bbacbc987651 button.colab-df-convert');\n",
              "      buttonEl.style.display =\n",
              "        google.colab.kernel.accessAllowed ? 'block' : 'none';\n",
              "\n",
              "      async function convertToInteractive(key) {\n",
              "        const element = document.querySelector('#df-2de5fcd6-919a-4871-ae89-bbacbc987651');\n",
              "        const dataTable =\n",
              "          await google.colab.kernel.invokeFunction('convertToInteractive',\n",
              "                                                    [key], {});\n",
              "        if (!dataTable) return;\n",
              "\n",
              "        const docLinkHtml = 'Like what you see? Visit the ' +\n",
              "          '<a target=\"_blank\" href=https://colab.research.google.com/notebooks/data_table.ipynb>data table notebook</a>'\n",
              "          + ' to learn more about interactive tables.';\n",
              "        element.innerHTML = '';\n",
              "        dataTable['output_type'] = 'display_data';\n",
              "        await google.colab.output.renderOutput(dataTable, element);\n",
              "        const docLink = document.createElement('div');\n",
              "        docLink.innerHTML = docLinkHtml;\n",
              "        element.appendChild(docLink);\n",
              "      }\n",
              "    </script>\n",
              "  </div>\n",
              "\n",
              "\n",
              "<div id=\"df-92caa784-5662-42f0-8711-d72be69cbbb6\">\n",
              "  <button class=\"colab-df-quickchart\" onclick=\"quickchart('df-92caa784-5662-42f0-8711-d72be69cbbb6')\"\n",
              "            title=\"Suggest charts\"\n",
              "            style=\"display:none;\">\n",
              "\n",
              "<svg xmlns=\"http://www.w3.org/2000/svg\" height=\"24px\"viewBox=\"0 0 24 24\"\n",
              "     width=\"24px\">\n",
              "    <g>\n",
              "        <path d=\"M19 3H5c-1.1 0-2 .9-2 2v14c0 1.1.9 2 2 2h14c1.1 0 2-.9 2-2V5c0-1.1-.9-2-2-2zM9 17H7v-7h2v7zm4 0h-2V7h2v10zm4 0h-2v-4h2v4z\"/>\n",
              "    </g>\n",
              "</svg>\n",
              "  </button>\n",
              "\n",
              "<style>\n",
              "  .colab-df-quickchart {\n",
              "      --bg-color: #E8F0FE;\n",
              "      --fill-color: #1967D2;\n",
              "      --hover-bg-color: #E2EBFA;\n",
              "      --hover-fill-color: #174EA6;\n",
              "      --disabled-fill-color: #AAA;\n",
              "      --disabled-bg-color: #DDD;\n",
              "  }\n",
              "\n",
              "  [theme=dark] .colab-df-quickchart {\n",
              "      --bg-color: #3B4455;\n",
              "      --fill-color: #D2E3FC;\n",
              "      --hover-bg-color: #434B5C;\n",
              "      --hover-fill-color: #FFFFFF;\n",
              "      --disabled-bg-color: #3B4455;\n",
              "      --disabled-fill-color: #666;\n",
              "  }\n",
              "\n",
              "  .colab-df-quickchart {\n",
              "    background-color: var(--bg-color);\n",
              "    border: none;\n",
              "    border-radius: 50%;\n",
              "    cursor: pointer;\n",
              "    display: none;\n",
              "    fill: var(--fill-color);\n",
              "    height: 32px;\n",
              "    padding: 0;\n",
              "    width: 32px;\n",
              "  }\n",
              "\n",
              "  .colab-df-quickchart:hover {\n",
              "    background-color: var(--hover-bg-color);\n",
              "    box-shadow: 0 1px 2px rgba(60, 64, 67, 0.3), 0 1px 3px 1px rgba(60, 64, 67, 0.15);\n",
              "    fill: var(--button-hover-fill-color);\n",
              "  }\n",
              "\n",
              "  .colab-df-quickchart-complete:disabled,\n",
              "  .colab-df-quickchart-complete:disabled:hover {\n",
              "    background-color: var(--disabled-bg-color);\n",
              "    fill: var(--disabled-fill-color);\n",
              "    box-shadow: none;\n",
              "  }\n",
              "\n",
              "  .colab-df-spinner {\n",
              "    border: 2px solid var(--fill-color);\n",
              "    border-color: transparent;\n",
              "    border-bottom-color: var(--fill-color);\n",
              "    animation:\n",
              "      spin 1s steps(1) infinite;\n",
              "  }\n",
              "\n",
              "  @keyframes spin {\n",
              "    0% {\n",
              "      border-color: transparent;\n",
              "      border-bottom-color: var(--fill-color);\n",
              "      border-left-color: var(--fill-color);\n",
              "    }\n",
              "    20% {\n",
              "      border-color: transparent;\n",
              "      border-left-color: var(--fill-color);\n",
              "      border-top-color: var(--fill-color);\n",
              "    }\n",
              "    30% {\n",
              "      border-color: transparent;\n",
              "      border-left-color: var(--fill-color);\n",
              "      border-top-color: var(--fill-color);\n",
              "      border-right-color: var(--fill-color);\n",
              "    }\n",
              "    40% {\n",
              "      border-color: transparent;\n",
              "      border-right-color: var(--fill-color);\n",
              "      border-top-color: var(--fill-color);\n",
              "    }\n",
              "    60% {\n",
              "      border-color: transparent;\n",
              "      border-right-color: var(--fill-color);\n",
              "    }\n",
              "    80% {\n",
              "      border-color: transparent;\n",
              "      border-right-color: var(--fill-color);\n",
              "      border-bottom-color: var(--fill-color);\n",
              "    }\n",
              "    90% {\n",
              "      border-color: transparent;\n",
              "      border-bottom-color: var(--fill-color);\n",
              "    }\n",
              "  }\n",
              "</style>\n",
              "\n",
              "  <script>\n",
              "    async function quickchart(key) {\n",
              "      const quickchartButtonEl =\n",
              "        document.querySelector('#' + key + ' button');\n",
              "      quickchartButtonEl.disabled = true;  // To prevent multiple clicks.\n",
              "      quickchartButtonEl.classList.add('colab-df-spinner');\n",
              "      try {\n",
              "        const charts = await google.colab.kernel.invokeFunction(\n",
              "            'suggestCharts', [key], {});\n",
              "      } catch (error) {\n",
              "        console.error('Error during call to suggestCharts:', error);\n",
              "      }\n",
              "      quickchartButtonEl.classList.remove('colab-df-spinner');\n",
              "      quickchartButtonEl.classList.add('colab-df-quickchart-complete');\n",
              "    }\n",
              "    (() => {\n",
              "      let quickchartButtonEl =\n",
              "        document.querySelector('#df-92caa784-5662-42f0-8711-d72be69cbbb6 button');\n",
              "      quickchartButtonEl.style.display =\n",
              "        google.colab.kernel.accessAllowed ? 'block' : 'none';\n",
              "    })();\n",
              "  </script>\n",
              "</div>\n",
              "\n",
              "  <div id=\"id_433a1318-acd2-4f26-a07f-334df5f4fdaf\">\n",
              "    <style>\n",
              "      .colab-df-generate {\n",
              "        background-color: #E8F0FE;\n",
              "        border: none;\n",
              "        border-radius: 50%;\n",
              "        cursor: pointer;\n",
              "        display: none;\n",
              "        fill: #1967D2;\n",
              "        height: 32px;\n",
              "        padding: 0 0 0 0;\n",
              "        width: 32px;\n",
              "      }\n",
              "\n",
              "      .colab-df-generate:hover {\n",
              "        background-color: #E2EBFA;\n",
              "        box-shadow: 0px 1px 2px rgba(60, 64, 67, 0.3), 0px 1px 3px 1px rgba(60, 64, 67, 0.15);\n",
              "        fill: #174EA6;\n",
              "      }\n",
              "\n",
              "      [theme=dark] .colab-df-generate {\n",
              "        background-color: #3B4455;\n",
              "        fill: #D2E3FC;\n",
              "      }\n",
              "\n",
              "      [theme=dark] .colab-df-generate:hover {\n",
              "        background-color: #434B5C;\n",
              "        box-shadow: 0px 1px 3px 1px rgba(0, 0, 0, 0.15);\n",
              "        filter: drop-shadow(0px 1px 2px rgba(0, 0, 0, 0.3));\n",
              "        fill: #FFFFFF;\n",
              "      }\n",
              "    </style>\n",
              "    <button class=\"colab-df-generate\" onclick=\"generateWithVariable('table')\"\n",
              "            title=\"Generate code using this dataframe.\"\n",
              "            style=\"display:none;\">\n",
              "\n",
              "  <svg xmlns=\"http://www.w3.org/2000/svg\" height=\"24px\"viewBox=\"0 0 24 24\"\n",
              "       width=\"24px\">\n",
              "    <path d=\"M7,19H8.4L18.45,9,17,7.55,7,17.6ZM5,21V16.75L18.45,3.32a2,2,0,0,1,2.83,0l1.4,1.43a1.91,1.91,0,0,1,.58,1.4,1.91,1.91,0,0,1-.58,1.4L9.25,21ZM18.45,9,17,7.55Zm-12,3A5.31,5.31,0,0,0,4.9,8.1,5.31,5.31,0,0,0,1,6.5,5.31,5.31,0,0,0,4.9,4.9,5.31,5.31,0,0,0,6.5,1,5.31,5.31,0,0,0,8.1,4.9,5.31,5.31,0,0,0,12,6.5,5.46,5.46,0,0,0,6.5,12Z\"/>\n",
              "  </svg>\n",
              "    </button>\n",
              "    <script>\n",
              "      (() => {\n",
              "      const buttonEl =\n",
              "        document.querySelector('#id_433a1318-acd2-4f26-a07f-334df5f4fdaf button.colab-df-generate');\n",
              "      buttonEl.style.display =\n",
              "        google.colab.kernel.accessAllowed ? 'block' : 'none';\n",
              "\n",
              "      buttonEl.onclick = () => {\n",
              "        google.colab.notebook.generateWithVariable('table');\n",
              "      }\n",
              "      })();\n",
              "    </script>\n",
              "  </div>\n",
              "\n",
              "    </div>\n",
              "  </div>\n"
            ],
            "application/vnd.google.colaboratory.intrinsic+json": {
              "type": "dataframe",
              "variable_name": "table",
              "summary": "{\n  \"name\": \"table\",\n  \"rows\": 14,\n  \"fields\": [\n    {\n      \"column\": \"Energy\",\n      \"properties\": {\n        \"dtype\": \"number\",\n        \"std\": 4.0730099850615895,\n        \"min\": -11.015585440701061,\n        \"max\": 0.9896513944703421,\n        \"num_unique_values\": 14,\n        \"samples\": [\n          0.6527861681552725,\n          0.6871459438294754,\n          -11.015585440701061\n        ],\n        \"semantic_type\": \"\",\n        \"description\": \"\"\n      }\n    },\n    {\n      \"column\": \"Occupancy\",\n      \"properties\": {\n        \"dtype\": \"number\",\n        \"std\": 1.027105182026191,\n        \"min\": 0.0,\n        \"max\": 2.0,\n        \"num_unique_values\": 2,\n        \"samples\": [\n          0.0,\n          2.0\n        ],\n        \"semantic_type\": \"\",\n        \"description\": \"\"\n      }\n    }\n  ]\n}"
            }
          },
          "metadata": {},
          "execution_count": 24
        }
      ]
    },
    {
      "cell_type": "markdown",
      "source": [
        "Let us also make a plot of the energy levels:"
      ],
      "metadata": {
        "id": "M4QDDgKpD3ug"
      }
    },
    {
      "cell_type": "code",
      "source": [
        "fig, ax = plt.subplots(constrained_layout=True, figsize=(9, 6))\n",
        "colors = matplotlib.cm.get_cmap(\"tab20\")(np.linspace(0, 1, len(mf.mo_energy)))\n",
        "\n",
        "pos = []\n",
        "for i, (energy, occ) in enumerate(zip(mf.mo_energy, mf.mo_occ)):\n",
        "    left = 3 * i\n",
        "    right = 3 * i + 2.5\n",
        "    length = right - left\n",
        "\n",
        "    (line,) = ax.plot([left, right], [energy, energy], color=colors[i], lw=3)\n",
        "\n",
        "    electron_x, electron_y = None, None\n",
        "    if occ == 2:\n",
        "        electron_x = [left + 0.25 * length, left + 0.75 * length]\n",
        "        electron_y = [energy, energy]\n",
        "    elif occ == 1:\n",
        "        electron_x, electron_y = [left + 0.5], [energy]\n",
        "    if electron_x and electron_y:\n",
        "        ax.scatter(electron_x, electron_y, color=line.get_color())\n",
        "\n",
        "    pos.append(left + 0.5 * length)\n",
        "\n",
        "ax.axhline(y=0, ls=\":\", color=\"k\")\n",
        "ax.set_xticks(pos)\n",
        "ax.set_xticklabels([f\"#{i}\" for i, _ in enumerate(pos)])\n",
        "ax.set(xlabel=\"MO number\", ylabel=\"Energy / a.u.\")\n",
        "sns.despine(fig=fig)"
      ],
      "metadata": {
        "colab": {
          "base_uri": "https://localhost:8080/",
          "height": 683
        },
        "id": "RL3K350iDwHZ",
        "outputId": "8681881e-51f3-4e17-8ef2-8d19ff91ce17"
      },
      "execution_count": 25,
      "outputs": [
        {
          "output_type": "stream",
          "name": "stderr",
          "text": [
            "<ipython-input-25-50c7e0e14e1f>:2: MatplotlibDeprecationWarning: The get_cmap function was deprecated in Matplotlib 3.7 and will be removed in 3.11. Use ``matplotlib.colormaps[name]`` or ``matplotlib.colormaps.get_cmap()`` or ``pyplot.get_cmap()`` instead.\n",
            "  colors = matplotlib.cm.get_cmap(\"tab20\")(np.linspace(0, 1, len(mf.mo_energy)))\n"
          ]
        },
        {
          "output_type": "display_data",
          "data": {
            "text/plain": [
              "<Figure size 900x600 with 1 Axes>"
            ],
            "image/png": "[encoded data removed]"
          },
          "metadata": {}
        }
      ]
    },
    {
      "cell_type": "code",
      "source": [
        "def get_mo(mf, mol):\n",
        "    \"\"\"Get molecular orbitals\"\"\"\n",
        "    orbitals = {\"canonical\": mf.mo_coeff}\n",
        "\n",
        "    # Get intrinsic bonding orbitals and localized intrinsic valence virtual orbitals (livvo):\n",
        "    orbocc = mf.mo_coeff[:, 0 : mol.nelec[0]]\n",
        "    orbvirt = mf.mo_coeff[:, mol.nelec[0] :]\n",
        "\n",
        "    ovlpS = mol.intor_symmetric(\"int1e_ovlp\")\n",
        "\n",
        "    iaos = lo.iao.iao(mol, orbocc)\n",
        "    iaos = lo.orth.vec_lowdin(iaos, ovlpS)\n",
        "    ibos = lo.ibo.ibo(mol, orbocc, locmethod=\"IBO\")\n",
        "    orbitals[\"ibo\"] = ibos\n",
        "\n",
        "    livvo = lo.vvo.livvo(mol, orbocc, orbvirt)\n",
        "    orbitals[\"livvo\"] = livvo\n",
        "    return orbitals"
      ],
      "metadata": {
        "id": "iKuazg8WD7mJ"
      },
      "execution_count": 26,
      "outputs": []
    },
    {
      "cell_type": "code",
      "source": [
        "orbitals = get_mo(mf, mol)"
      ],
      "metadata": {
        "colab": {
          "base_uri": "https://localhost:8080/"
        },
        "id": "cgWFY8PQECOZ",
        "outputId": "c32b3ff7-3c78-4e86-8ad6-2f5457e1ad3f"
      },
      "execution_count": 27,
      "outputs": [
        {
          "output_type": "stream",
          "name": "stdout",
          "text": [
            " Iterative localization: IB/P4/2x2, 7 iter; Final gradient 1.05e-09\n",
            " Iterative localization: IB/P4/2x2, 6 iter; Final gradient 1.08e-09\n"
          ]
        }
      ]
    },
    {
      "cell_type": "markdown",
      "source": [
        "Visualizing the orbitals with py3Dmol and fortecubeview"
      ],
      "metadata": {
        "id": "5gGCRcZFEKUy"
      }
    },
    {
      "cell_type": "code",
      "source": [
        "def write_all_coeffs(\n",
        "    mol, coeffs, prefix=\"cmo\", dirname=\".\", margin=5, offset=0\n",
        "):\n",
        "    \"\"\"Write cube files for the given coefficients.\"\"\"\n",
        "    path = pathlib.Path(dirname)\n",
        "    path.mkdir(parents=True, exist_ok=True)\n",
        "\n",
        "    for i in range(coeffs.shape[1]):\n",
        "        outfile = f\"{prefix}_{i+offset:02d}.cube\"\n",
        "        outfile = path / outfile\n",
        "        print(f\"Writing {outfile}\")\n",
        "        tools.cubegen.orbital(mol, outfile, coeffs[:, i], margin=margin)"
      ],
      "metadata": {
        "id": "abB4BBIcEFZ5"
      },
      "execution_count": 28,
      "outputs": []
    },
    {
      "cell_type": "markdown",
      "source": [
        "To write all the canonical molecular orbitals write_all_coeffs can be used as follows:"
      ],
      "metadata": {
        "id": "nqqIdug-EV2B"
      }
    },
    {
      "cell_type": "code",
      "source": [
        "# write_all_coeffs(\n",
        "#    mol,\n",
        "#    orbitals[\"canonical\"],\n",
        "#    prefix=f\"{molecule_name}_cmo\",\n",
        "#    dirname=\"cmo\",\n",
        "#    margin=5,\n",
        "# )"
      ],
      "metadata": {
        "id": "FdbJJlauEN95"
      },
      "execution_count": 29,
      "outputs": []
    },
    {
      "cell_type": "markdown",
      "source": [
        "And to write all the IBOs and LIVVOs:"
      ],
      "metadata": {
        "id": "eGOu8abnEepo"
      }
    },
    {
      "cell_type": "code",
      "source": [
        "# write_all_coeffs(\n",
        "#    mol,\n",
        "#    orbitals[\"ibo\"],\n",
        "#    prefix=f\"{molecule_name}_ibo\",\n",
        "#    dirname=\"ibo\",\n",
        "#    margin=5,\n",
        "# )\n",
        "\n",
        "# write_all_coeffs(\n",
        "#    mol,\n",
        "#    orbitals[\"livvo\"],\n",
        "#    prefix=f\"{molecule_name}_livvo\",\n",
        "#    dirname=\"ibo\",\n",
        "#    margin=5,\n",
        "#    offset=orbitals[\"ibo\"].shape[1],\n",
        "# )"
      ],
      "metadata": {
        "id": "seoa2JuwEaYB"
      },
      "execution_count": 30,
      "outputs": []
    },
    {
      "cell_type": "markdown",
      "source": [
        "For simplicity, I will only write the highest occupied orbital and the lowest unoccupied orbital here:"
      ],
      "metadata": {
        "id": "c1qDGgW6Emtj"
      }
    },
    {
      "cell_type": "code",
      "source": [
        "def find_homo_lumo(mf):\n",
        "    lumo = float(\"inf\")\n",
        "    lumo_idx = None\n",
        "    homo = -float(\"inf\")\n",
        "    homo_idx = None\n",
        "    for i, (energy, occ) in enumerate(zip(mf.mo_energy, mf.mo_occ)):\n",
        "        if occ > 0 and energy > homo:\n",
        "            homo = energy\n",
        "            homo_idx = i\n",
        "        if occ == 0 and energy < lumo:\n",
        "            lumo = energy\n",
        "            lumo_idx = i\n",
        "\n",
        "    return homo, homo_idx, lumo, lumo_idx\n",
        "\n",
        "\n",
        "_, homo_idx, _, lumo_idx = find_homo_lumo(mf)\n",
        "print(f\"HOMO (index): {homo_idx}\")\n",
        "print(f\"LUMO (index): {lumo_idx}\")"
      ],
      "metadata": {
        "colab": {
          "base_uri": "https://localhost:8080/"
        },
        "id": "0b46vRf_EeW5",
        "outputId": "a2878228-2b20-4c3c-9d77-1a63cf8d15e8"
      },
      "execution_count": 31,
      "outputs": [
        {
          "output_type": "stream",
          "name": "stdout",
          "text": [
            "HOMO (index): 7\n",
            "LUMO (index): 8\n"
          ]
        }
      ]
    },
    {
      "cell_type": "code",
      "source": [
        "tools.cubegen.orbital(\n",
        "    mol, \"cmo_homo.cube\", orbitals[\"canonical\"][:, homo_idx], margin=5\n",
        ")\n",
        "tools.cubegen.orbital(\n",
        "    mol, \"cmo_lumo.cube\", orbitals[\"canonical\"][:, lumo_idx], margin=5\n",
        ")\n",
        "tools.cubegen.orbital(mol, \"ibo_homo.cube\", orbitals[\"ibo\"][:, -1], margin=5)\n",
        "tools.cubegen.orbital(\n",
        "    mol, \"livvo_lumo.cube\", orbitals[\"livvo\"][:, 0], margin=5\n",
        ");"
      ],
      "metadata": {
        "id": "E8TypwLaEsng"
      },
      "execution_count": 32,
      "outputs": []
    },
    {
      "cell_type": "markdown",
      "source": [
        "To display the molecular orbitals, fortecubeview is really convenient as we can give it a directory, and it will load all the cube files in that directory:"
      ],
      "metadata": {
        "id": "E3g6DxHUE24Q"
      }
    },
    {
      "cell_type": "code",
      "source": [
        "fortecubeview.plot(path=\".\", sumlevel=0.85)"
      ],
      "metadata": {
        "colab": {
          "base_uri": "https://localhost:8080/",
          "height": 167,
          "referenced_widgets": [
            "8087ef8d00874e1dbb4f2298977c4a97",
            "b9731da14ea84041830ce2ea3e2f3196",
            "67cfc704fa194dfd98b58a490fc1bb16",
            "797c5ab71c6846f2b258b813594a4fe4",
            "e9ab178ce8bc4130a37dba17a735968e",
            "b0316cea1c834747859c42ee0269d6d9",
            "7d84de4d13e7473997e96445f9d93d59",
            "10434e197afc44c5ba4b23138133d8ec",
            "9a0ae6fb81e54a099adb2ceeb29a9567",
            "edff8a42926c4c48a5609f5cb7714554",
            "47aa289395ba441bbf663855f7d47011",
            "ebc760a871364652a55f717c616d03d3",
            "a6ead4598f4f4b1fa8f5b7af1c3df654",
            "1a44bcbae722429eb78ff8af4551b026",
            "4d4cdc4a943a41e5a639437033d99889",
            "fda65caa16b347d385224c4eaa4f8470",
            "c1469372d3654b16a922a29e2ae8d612",
            "12c2a6d0aa4b4906a150977680ad364d",
            "7ddd08e0e92849a48e8a12f94bb737c9"
          ]
        },
        "id": "g1kebZqZEv2A",
        "outputId": "fce50f90-f2ad-4689-9ca4-588d43278617"
      },
      "execution_count": 33,
      "outputs": [
        {
          "output_type": "stream",
          "name": "stdout",
          "text": [
            "CubeViewer: listing cube files from the directory .\n",
            "Reading 4 cube files\n"
          ]
        },
        {
          "output_type": "display_data",
          "data": {
            "text/plain": [
              "VBox(children=(HTML(value=''), Renderer(camera=OrthographicCamera(bottom=-5.0, children=(DirectionalLight(colo…"
            ],
            "application/vnd.jupyter.widget-view+json": {
              "version_major": 2,
              "version_minor": 0,
              "model_id": "8087ef8d00874e1dbb4f2298977c4a97"
            }
          },
          "metadata": {}
        },
        {
          "output_type": "display_data",
          "data": {
            "text/plain": [
              "HTML(value='\\n        <style>\\n           .jupyter-widgets-output-area .output_scroll {\\n                heigh…"
            ],
            "application/vnd.jupyter.widget-view+json": {
              "version_major": 2,
              "version_minor": 0,
              "model_id": "10434e197afc44c5ba4b23138133d8ec"
            }
          },
          "metadata": {}
        },
        {
          "output_type": "display_data",
          "data": {
            "text/plain": [
              "interactive(children=(Select(description='Cube files:', options=('./cmo_homo.cube', './cmo_lumo.cube', './ibo_…"
            ],
            "application/vnd.jupyter.widget-view+json": {
              "version_major": 2,
              "version_minor": 0,
              "model_id": "a6ead4598f4f4b1fa8f5b7af1c3df654"
            }
          },
          "metadata": {}
        },
        {
          "output_type": "execute_result",
          "data": {
            "text/plain": [
              "<fortecubeview.cube_viewer.CubeViewer at 0x7843a43bfe50>"
            ]
          },
          "metadata": {},
          "execution_count": 33
        }
      ]
    },
    {
      "cell_type": "markdown",
      "source": [
        "We can also use py3Dmol. First, we read the cube file we want, and then we pass that to py3Dmol:\n",
        "\n",
        "data = None"
      ],
      "metadata": {
        "id": "M2S64D6UFFtp"
      }
    },
    {
      "cell_type": "code",
      "source": [
        "data = None\n",
        "with open(\"ibo_homo.cube\", \"r\") as infile:\n",
        "    data = infile.read()"
      ],
      "metadata": {
        "id": "lDztaaLxE76J"
      },
      "execution_count": 34,
      "outputs": []
    },
    {
      "cell_type": "code",
      "source": [
        "view = py3Dmol.view()\n",
        "view.addVolumetricData(\n",
        "    data,\n",
        "    \"cube\",\n",
        "    {\n",
        "        \"isoval\": 0.05,\n",
        "        \"smoothness\": 5,\n",
        "        \"opacity\": 0.8,\n",
        "        \"volformat\": \"cube\",\n",
        "        \"color\": \"blue\",\n",
        "    },\n",
        ")\n",
        "view.addVolumetricData(\n",
        "    data,\n",
        "    \"cube\",\n",
        "    {\n",
        "        \"isoval\": -0.05,\n",
        "        \"smoothness\": 5,\n",
        "        \"opacity\": 0.8,\n",
        "        \"volformat\": \"cube\",\n",
        "        \"color\": \"orange\",\n",
        "    },\n",
        ")\n",
        "view.addModel(data, \"cube\")\n",
        "view.setStyle({\"stick\": {}})\n",
        "view.zoomTo()\n",
        "view.show()"
      ],
      "metadata": {
        "id": "6qO75sQoFKTo"
      },
      "execution_count": 36,
      "outputs": []
    }
  ]
}